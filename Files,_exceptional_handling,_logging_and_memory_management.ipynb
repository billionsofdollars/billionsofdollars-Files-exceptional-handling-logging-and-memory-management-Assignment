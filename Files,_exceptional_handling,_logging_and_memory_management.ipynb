{
  "nbformat": 4,
  "nbformat_minor": 0,
  "metadata": {
    "colab": {
      "provenance": []
    },
    "kernelspec": {
      "name": "python3",
      "display_name": "Python 3"
    },
    "language_info": {
      "name": "python"
    }
  },
  "cells": [
    {
      "cell_type": "markdown",
      "source": [
        "THEORY QUESTIONS"
      ],
      "metadata": {
        "id": "UB6XO2D_Byla"
      }
    },
    {
      "cell_type": "markdown",
      "source": [
        "1. What is the difference between interpreted and compiled languages?\n",
        "\n",
        "Answer:\n",
        "Interpreted languages execute the code line-by-line using an interpreter, while compiled languages convert the entire code into machine language using a compiler before execution.\n",
        "\n",
        "Interpreted languages (like Python): Slower, flexible, platform-independent.\n",
        "\n",
        "Compiled languages (like C++): Faster, but need recompilation for different platforms."
      ],
      "metadata": {
        "id": "Up7-PtgtB4Ni"
      }
    },
    {
      "cell_type": "markdown",
      "source": [
        "2. What is exception handling in Python?\n",
        "\n",
        "Answer:\n",
        "Exception handling in Python is the process of responding to the occurrence of exceptions (errors) during program execution. It prevents programs from crashing and allows for graceful error handling using try, except, else, and finally blocks."
      ],
      "metadata": {
        "id": "TvojEv2pCNCd"
      }
    },
    {
      "cell_type": "markdown",
      "source": [
        "3. What is the purpose of the finally block in exception handling?\n",
        "\n",
        "Answer:\n",
        "The finally block contains code that will always execute, regardless of whether an exception occurred or not. It’s typically used for cleanup actions like closing files or releasing resources.\n",
        "\n"
      ],
      "metadata": {
        "id": "txX1cUOICQex"
      }
    },
    {
      "cell_type": "markdown",
      "source": [
        "4. What is logging in Python?\n",
        "\n",
        "Answer:\n",
        "Logging is a way to track events that happen when software runs. Python’s logging module allows us to record messages for debugging, error reporting, and running information instead of using print().\n",
        "\n"
      ],
      "metadata": {
        "id": "UPa4QcdCCTAB"
      }
    },
    {
      "cell_type": "markdown",
      "source": [
        "5. What is the significance of the __del__ method in Python?\n",
        "\n",
        "Answer:\n",
        "__del__ is a destructor method called when an object is about to be destroyed. It helps release resources like files or network connections. However, its use is rare due to automatic garbage collection in Python."
      ],
      "metadata": {
        "id": "AkCLpyxICVwW"
      }
    },
    {
      "cell_type": "markdown",
      "source": [
        "6. What is the difference between import and from ... import in Python?\n",
        "\n",
        "Answer:\n",
        "\n",
        "import module imports the entire module. You need to use module.function().\n",
        "\n",
        "from module import function imports a specific function or class. You can use function() directly."
      ],
      "metadata": {
        "id": "rWPeVWUfCX_l"
      }
    },
    {
      "cell_type": "code",
      "source": [
        "#7. How can you handle multiple exceptions in Python?\n",
        "#Answer:\n",
        "#You can handle multiple exceptions using:\n",
        "\n",
        "try:\n",
        "    # code\n",
        "except (TypeError, ValueError) as e:\n",
        "    print(e)\n",
        "#Or use separate blocks:\n",
        "\n",
        "try:\n",
        "    # code\n",
        "except TypeError:\n",
        "    print(\"Type error\")\n",
        "except ValueError:\n",
        "    print(\"Value error\")"
      ],
      "metadata": {
        "id": "PuLBYtuLCiWQ"
      },
      "execution_count": null,
      "outputs": []
    },
    {
      "cell_type": "code",
      "source": [
        "#8. What is the purpose of the with statement when handling files in Python?\n",
        "#Answer:\n",
        "#The with statement automatically manages file opening and closing. It ensures the file is closed even if an error occurs:\n",
        "\n",
        "with open('file.txt') as f:\n",
        "    data = f.read()"
      ],
      "metadata": {
        "id": "pR1H8RjcCkaG"
      },
      "execution_count": null,
      "outputs": []
    },
    {
      "cell_type": "markdown",
      "source": [
        "9. What is the difference between multithreading and multiprocessing?\n",
        "\n",
        "Answer:\n",
        "\n",
        "Multithreading: Multiple threads in one process. Best for I/O-bound tasks.\n",
        "\n",
        "Multiprocessing: Multiple processes, each with its own memory. Best for CPU-bound tasks."
      ],
      "metadata": {
        "id": "Mdk2P_GzC_ZJ"
      }
    },
    {
      "cell_type": "markdown",
      "source": [
        "10. What are the advantages of using logging in a program?\n",
        "\n",
        "Answer:\n",
        "\n",
        "Helps in debugging and error tracing\n",
        "\n",
        "Records application behavior\n",
        "\n",
        "Can categorize messages (INFO, ERROR, etc.)\n",
        "\n",
        "Works better than print() in production"
      ],
      "metadata": {
        "id": "CGTiqBpKDGU8"
      }
    },
    {
      "cell_type": "markdown",
      "source": [
        "11. What is memory management in Python?\n",
        "\n",
        "Answer:\n",
        "Memory management in Python is automatic. It includes:\n",
        "\n",
        "Automatic allocation\n",
        "\n",
        "Garbage collection\n",
        "\n",
        "Reference counting\n",
        "\n",
        "Python uses a private heap to store objects.\n",
        "\n"
      ],
      "metadata": {
        "id": "7z9LTXe1DH6k"
      }
    },
    {
      "cell_type": "markdown",
      "source": [
        "12. What are the basic steps involved in exception handling in Python?\n",
        "\n",
        "Answer:\n",
        "\n",
        "Write code in try block.\n",
        "\n",
        "Catch errors using except.\n",
        "\n",
        "Optionally use else (if no error).\n",
        "\n",
        "Use finally for cleanup."
      ],
      "metadata": {
        "id": "3ros7ySWDJtL"
      }
    },
    {
      "cell_type": "markdown",
      "source": [
        "13. Why is memory management important in Python?\n",
        "\n",
        "Answer:\n",
        "It ensures efficient use of memory, avoids memory leaks, and improves program performance."
      ],
      "metadata": {
        "id": "ZTxNZHTMDMf5"
      }
    },
    {
      "cell_type": "markdown",
      "source": [
        "14. What is the role of try and except in exception handling?\n",
        "\n",
        "Answer:\n",
        "\n",
        "try: Contains risky code.\n",
        "\n",
        "except: Catches and handles exceptions if they occur."
      ],
      "metadata": {
        "id": "HuEnQBMbDN6y"
      }
    },
    {
      "cell_type": "markdown",
      "source": [
        "15. How does Python's garbage collection system work?\n",
        "\n",
        "Answer:\n",
        "Python uses reference counting and a cyclic garbage collector to remove unused objects from memory automatically.\n",
        "\n"
      ],
      "metadata": {
        "id": "RIJcf0rmDPug"
      }
    },
    {
      "cell_type": "markdown",
      "source": [
        "16. What is the purpose of the else block in exception handling?\n",
        "\n",
        "Answer:\n",
        "else runs only if no exceptions occur in the try block. Useful for code that should only run on successful execution."
      ],
      "metadata": {
        "id": "Kqh2nCIyDRNQ"
      }
    },
    {
      "cell_type": "markdown",
      "source": [
        "17. What are the common logging levels in Python?\n",
        "\n",
        "Answer:\n",
        "\n",
        "DEBUG\n",
        "\n",
        "INFO\n",
        "\n",
        "WARNING\n",
        "\n",
        "ERROR\n",
        "\n",
        "CRITICAL\n",
        "\n",
        "These help classify the severity of events."
      ],
      "metadata": {
        "id": "0YRA4EntDShm"
      }
    },
    {
      "cell_type": "markdown",
      "source": [
        "18. What is the difference between os.fork() and multiprocessing in Python?\n",
        "\n",
        "Answer:\n",
        "\n",
        "os.fork() is Unix-only, creates a child process.\n",
        "\n",
        "multiprocessing is cross-platform and provides a high-level API to spawn processes."
      ],
      "metadata": {
        "id": "5prbv0_oDUhh"
      }
    },
    {
      "cell_type": "markdown",
      "source": [
        "19. What is the importance of closing a file in Python?\n",
        "\n",
        "Answer:\n",
        "Closing a file frees system resources and ensures data is properly written. Using with ensures this automatically."
      ],
      "metadata": {
        "id": "p5bvIZOiDV4B"
      }
    },
    {
      "cell_type": "markdown",
      "source": [
        "20. What is the difference between file.read() and file.readline() in Python?\n",
        "\n",
        "Answer:\n",
        "\n",
        "file.read() reads the whole file as one string.\n",
        "\n",
        "file.readline() reads one line at a time.\n",
        "\n"
      ],
      "metadata": {
        "id": "GcVQpFOWDXbQ"
      }
    },
    {
      "cell_type": "markdown",
      "source": [
        "21. What is the logging module in Python used for?\n",
        "\n",
        "Answer:\n",
        "It’s used to record messages about program execution, which can help in debugging and monitoring."
      ],
      "metadata": {
        "id": "FxuOxehQDZH8"
      }
    },
    {
      "cell_type": "markdown",
      "source": [
        "22. What is the os module in Python used for in file handling?\n",
        "\n",
        "Answer:\n",
        "It provides functions to interact with the operating system, like file creation, deletion, path management, etc.\n",
        "\n"
      ],
      "metadata": {
        "id": "S8-QO2ZGDaWP"
      }
    },
    {
      "cell_type": "markdown",
      "source": [
        "23. What are the challenges associated with memory management in Python?\n",
        "\n",
        "Answer:\n",
        "\n",
        "Cyclic references\n",
        "\n",
        "Inefficient memory usage in large programs\n",
        "\n",
        "Hidden memory leaks in long-running processes\n",
        "\n"
      ],
      "metadata": {
        "id": "I0u09KaVDb6b"
      }
    },
    {
      "cell_type": "code",
      "source": [
        "#24. How do you raise an exception manually in Python?\n",
        "#Answer:\n",
        "#You can raise exceptions using the raise keyword:\n",
        "\n",
        "raise ValueError(\"Invalid input\")"
      ],
      "metadata": {
        "id": "jBlQb4TuDfrS"
      },
      "execution_count": null,
      "outputs": []
    },
    {
      "cell_type": "markdown",
      "source": [
        "25. Why is it important to use multithreading in certain applications?\n",
        "\n",
        "Answer:\n",
        "It helps in:\n",
        "\n",
        "Performing multiple I/O tasks simultaneously\n",
        "\n",
        "Improving responsiveness in GUI apps\n",
        "\n",
        "Better resource utilization in I/O-bound processes"
      ],
      "metadata": {
        "id": "bk-yG_xODgmW"
      }
    },
    {
      "cell_type": "markdown",
      "source": [
        "PRACTICAL QUESTIONS\n"
      ],
      "metadata": {
        "id": "-lMW9YddEGVn"
      }
    },
    {
      "cell_type": "code",
      "source": [
        "#1. How can you open a file for writing in Python and write a string to it?\n",
        "\n",
        "with open(\"example.txt\", \"w\") as file:\n",
        "    file.write(\"Hello, this is a sample text.\")\n",
        "#\"w\" mode opens the file for writing. If it doesn’t exist, it’s created.\n",
        "\n",
        "#If the file already exists, its contents are overwritten.\n",
        "\n"
      ],
      "metadata": {
        "id": "-xv4y9xLEKFa"
      },
      "execution_count": 2,
      "outputs": []
    },
    {
      "cell_type": "code",
      "source": [
        "#2. Write a Python program to read the contents of a file and print each line.\n",
        "\n",
        "with open(\"example.txt\", \"r\") as file:\n",
        "    for line in file:\n",
        "        print(line.strip())\n",
        "#.strip() is used to remove extra newlines or whitespace."
      ],
      "metadata": {
        "colab": {
          "base_uri": "https://localhost:8080/"
        },
        "id": "IT1MKR-zEPOn",
        "outputId": "b78ef389-3ec3-42e1-9abf-8816d8a48e6a"
      },
      "execution_count": 3,
      "outputs": [
        {
          "output_type": "stream",
          "name": "stdout",
          "text": [
            "Hello, this is a sample text.\n"
          ]
        }
      ]
    },
    {
      "cell_type": "code",
      "source": [
        "#3. How would you handle a case where the file doesn't exist while trying to open it for reading?\n",
        "\n",
        "try:\n",
        "    with open(\"non_existing.txt\", \"r\") as file:\n",
        "        print(file.read())\n",
        "except FileNotFoundError:\n",
        "    print(\"The file does not exist.\")"
      ],
      "metadata": {
        "colab": {
          "base_uri": "https://localhost:8080/"
        },
        "id": "178qc8RBEQmn",
        "outputId": "dc437e58-6ec1-4b48-fe2e-1df050edd45d"
      },
      "execution_count": 4,
      "outputs": [
        {
          "output_type": "stream",
          "name": "stdout",
          "text": [
            "The file does not exist.\n"
          ]
        }
      ]
    },
    {
      "cell_type": "code",
      "source": [
        "#4. Write a Python script that reads from one file and writes its content to another file.\n",
        "\n",
        "with open(\"source.txt\", \"r\") as source_file:\n",
        "    content = source_file.read()\n",
        "\n",
        "with open(\"destination.txt\", \"w\") as dest_file:\n",
        "    dest_file.write(content)"
      ],
      "metadata": {
        "id": "bRDeaMXQGoJa"
      },
      "execution_count": null,
      "outputs": []
    },
    {
      "cell_type": "code",
      "source": [
        "#5. How would you catch and handle division by zero error in Python?\n",
        "\n",
        "try:\n",
        "    result = 10 / 0\n",
        "except ZeroDivisionError:\n",
        "    print(\"You can't divide by zero!\")"
      ],
      "metadata": {
        "colab": {
          "base_uri": "https://localhost:8080/"
        },
        "id": "AOiqqY97EZYH",
        "outputId": "6fe9a2e9-a6f2-469b-9d57-3a53890ddfeb"
      },
      "execution_count": 6,
      "outputs": [
        {
          "output_type": "stream",
          "name": "stdout",
          "text": [
            "You can't divide by zero!\n"
          ]
        }
      ]
    },
    {
      "cell_type": "code",
      "source": [
        "#6. Write a Python program that logs an error message to a log file when a division by zero exception occurs.\n",
        "\n",
        "import logging\n",
        "\n",
        "logging.basicConfig(filename=\"error.log\", level=logging.ERROR)\n",
        "\n",
        "try:\n",
        "    result = 10 / 0\n",
        "except ZeroDivisionError as e:\n",
        "    logging.error(\"Division by zero occurred: %s\", e)"
      ],
      "metadata": {
        "colab": {
          "base_uri": "https://localhost:8080/"
        },
        "id": "IBybg7YbEaA_",
        "outputId": "a207a596-4103-4c95-914b-c3bd5c5eab4d"
      },
      "execution_count": 7,
      "outputs": [
        {
          "output_type": "stream",
          "name": "stderr",
          "text": [
            "ERROR:root:Division by zero occurred: division by zero\n"
          ]
        }
      ]
    },
    {
      "cell_type": "code",
      "source": [
        "#7. How do you log information at different levels (INFO, ERROR, WARNING) in Python using the logging module?\n",
        "\n",
        "import logging\n",
        "\n",
        "logging.basicConfig(level=logging.DEBUG)\n",
        "\n",
        "logging.info(\"This is an info message.\")\n",
        "logging.warning(\"This is a warning.\")\n",
        "logging.error(\"This is an error.\")"
      ],
      "metadata": {
        "colab": {
          "base_uri": "https://localhost:8080/"
        },
        "id": "55_lyhEHEboT",
        "outputId": "e30c15d0-cb6c-4690-e579-60594bd4a886"
      },
      "execution_count": 8,
      "outputs": [
        {
          "output_type": "stream",
          "name": "stderr",
          "text": [
            "WARNING:root:This is a warning.\n",
            "ERROR:root:This is an error.\n"
          ]
        }
      ]
    },
    {
      "cell_type": "code",
      "source": [
        "#8. Write a program to handle a file opening error using exception handling.\n",
        "\n",
        "try:\n",
        "    with open(\"file_does_not_exist.txt\", \"r\") as f:\n",
        "        print(f.read())\n",
        "except FileNotFoundError:\n",
        "    print(\"File not found!\")"
      ],
      "metadata": {
        "colab": {
          "base_uri": "https://localhost:8080/"
        },
        "id": "dNHfZcPnEdxl",
        "outputId": "635fb361-be8c-488e-d51a-a752f5fa2ad8"
      },
      "execution_count": 9,
      "outputs": [
        {
          "output_type": "stream",
          "name": "stdout",
          "text": [
            "File not found!\n"
          ]
        }
      ]
    },
    {
      "cell_type": "code",
      "source": [
        "#9. How can you read a file line by line and store its content in a list in Python?\n",
        "\n",
        "with open(\"example.txt\", \"r\") as file:\n",
        "    lines = file.readlines()\n",
        "\n",
        "print(lines)  # List of lines"
      ],
      "metadata": {
        "colab": {
          "base_uri": "https://localhost:8080/"
        },
        "id": "CeeECdJ4EeYF",
        "outputId": "19f10f47-99f1-47d5-fa89-d6e3acb17809"
      },
      "execution_count": 10,
      "outputs": [
        {
          "output_type": "stream",
          "name": "stdout",
          "text": [
            "['Hello, this is a sample text.']\n"
          ]
        }
      ]
    },
    {
      "cell_type": "code",
      "source": [
        "#10. How can you append data to an existing file in Python?\n",
        "\n",
        "with open(\"example.txt\", \"a\") as file:\n",
        "    file.write(\"\\nThis is a new line.\")\n"
      ],
      "metadata": {
        "id": "-FJ9jb6PEfnr"
      },
      "execution_count": 11,
      "outputs": []
    },
    {
      "cell_type": "code",
      "source": [
        "#11. Write a Python program that uses a try-except block to handle an error when attempting to access a dictionary key that doesn't exist.\n",
        "\n",
        "my_dict = {\"name\": \"Maanav\"}\n",
        "\n",
        "try:\n",
        "    print(my_dict[\"age\"])\n",
        "except KeyError:\n",
        "    print(\"Key not found in dictionary.\")"
      ],
      "metadata": {
        "colab": {
          "base_uri": "https://localhost:8080/"
        },
        "id": "_Bry5egcEg2X",
        "outputId": "8b7bdc54-ba41-4f23-f257-fbe544edf660"
      },
      "execution_count": 12,
      "outputs": [
        {
          "output_type": "stream",
          "name": "stdout",
          "text": [
            "Key not found in dictionary.\n"
          ]
        }
      ]
    },
    {
      "cell_type": "code",
      "source": [
        "#12. Write a program that demonstrates using multiple except blocks to handle different types of exceptions.\n",
        "\n",
        "try:\n",
        "    a = int(\"abc\")\n",
        "    b = 10 / 0\n",
        "except ValueError:\n",
        "    print(\"ValueError occurred.\")\n",
        "except ZeroDivisionError:\n",
        "    print(\"ZeroDivisionError occurred.\")"
      ],
      "metadata": {
        "colab": {
          "base_uri": "https://localhost:8080/"
        },
        "id": "twdga2sEEiRQ",
        "outputId": "69f90ce8-fdd0-4e0f-881e-9aa08e527619"
      },
      "execution_count": 13,
      "outputs": [
        {
          "output_type": "stream",
          "name": "stdout",
          "text": [
            "ValueError occurred.\n"
          ]
        }
      ]
    },
    {
      "cell_type": "code",
      "source": [
        "#13. How would you check if a file exists before attempting to read it in Python?\n",
        "\n",
        "import os\n",
        "\n",
        "if os.path.exists(\"example.txt\"):\n",
        "    with open(\"example.txt\", \"r\") as file:\n",
        "        print(file.read())\n",
        "else:\n",
        "    print(\"File does not exist.\")"
      ],
      "metadata": {
        "colab": {
          "base_uri": "https://localhost:8080/"
        },
        "id": "Z0mgSbJuEkfP",
        "outputId": "15a8b0c2-70f3-4cb0-95b6-e48bc65bb0dd"
      },
      "execution_count": 14,
      "outputs": [
        {
          "output_type": "stream",
          "name": "stdout",
          "text": [
            "Hello, this is a sample text.\n",
            "This is a new line.\n"
          ]
        }
      ]
    },
    {
      "cell_type": "code",
      "source": [
        "#14. Write a program that uses the logging module to log both informational and error messages.\n",
        "\n",
        "import logging\n",
        "\n",
        "logging.basicConfig(filename=\"app.log\", level=logging.DEBUG)\n",
        "\n",
        "logging.info(\"Program started\")\n",
        "try:\n",
        "    result = 10 / 0\n",
        "except ZeroDivisionError:\n",
        "    logging.error(\"Division by zero error\")"
      ],
      "metadata": {
        "colab": {
          "base_uri": "https://localhost:8080/"
        },
        "id": "5Ifhc43LElSP",
        "outputId": "f73074d1-e341-4e28-f824-cd8365909203"
      },
      "execution_count": 15,
      "outputs": [
        {
          "output_type": "stream",
          "name": "stderr",
          "text": [
            "ERROR:root:Division by zero error\n"
          ]
        }
      ]
    },
    {
      "cell_type": "code",
      "source": [
        "#15. Write a Python program that prints the content of a file and handles the case when the file is empty.\n",
        "\n",
        "with open(\"example.txt\", \"r\") as file:\n",
        "    content = file.read()\n",
        "\n",
        "if not content:\n",
        "    print(\"The file is empty.\")\n",
        "else:\n",
        "    print(content)"
      ],
      "metadata": {
        "colab": {
          "base_uri": "https://localhost:8080/"
        },
        "id": "rg9PrvDjEm3C",
        "outputId": "b3cc6794-6540-452a-8e59-3aef167fcda5"
      },
      "execution_count": 16,
      "outputs": [
        {
          "output_type": "stream",
          "name": "stdout",
          "text": [
            "Hello, this is a sample text.\n",
            "This is a new line.\n"
          ]
        }
      ]
    },
    {
      "cell_type": "code",
      "source": [
        "#16. Demonstrate how to use memory profiling to check the memory usage of a small program.\n",
        "#Install memory_profiler first:\n",
        "pip install memory-profiler\n",
        "#Example program:\n",
        "from memory_profiler import profile\n",
        "\n",
        "@profile\n",
        "def calculate():\n",
        "    data = [i ** 2 for i in range(10000)]\n",
        "    return data\n",
        "\n",
        "calculate()\n",
        "#Run with:\n",
        "python -m memory_profiler script.py\n"
      ],
      "metadata": {
        "id": "3k5fUDhiEoMy"
      },
      "execution_count": null,
      "outputs": []
    },
    {
      "cell_type": "code",
      "source": [
        "#17. Write a Python program to create and write a list of numbers to a file, one number per line.\n",
        "\n",
        "numbers = [1, 2, 3, 4, 5]\n",
        "\n",
        "with open(\"numbers.txt\", \"w\") as file:\n",
        "    for number in numbers:\n",
        "        file.write(f\"{number}\\n\")"
      ],
      "metadata": {
        "id": "Np56UBGZEsWF"
      },
      "execution_count": 20,
      "outputs": []
    },
    {
      "cell_type": "code",
      "source": [
        "#18. How would you implement a basic logging setup that logs to a file with rotation after 1MB?\n",
        "\n",
        "import logging\n",
        "from logging.handlers import RotatingFileHandler\n",
        "\n",
        "handler = RotatingFileHandler(\"rotating.log\", maxBytes=1048576, backupCount=3)\n",
        "logging.basicConfig(handlers=[handler], level=logging.INFO)\n",
        "\n",
        "for i in range(10000):\n",
        "    logging.info(\"This is log message number %d\", i)"
      ],
      "metadata": {
        "id": "7XmhYnazEtif"
      },
      "execution_count": 21,
      "outputs": []
    },
    {
      "cell_type": "code",
      "source": [
        "#19. Write a program that handles both IndexError and KeyError using a try-except block.\n",
        "\n",
        "try:\n",
        "    my_list = [1, 2, 3]\n",
        "    print(my_list[5])\n",
        "    my_dict = {\"a\": 1}\n",
        "    print(my_dict[\"b\"])\n",
        "except IndexError:\n",
        "    print(\"Index out of range.\")\n",
        "except KeyError:\n",
        "    print(\"Key not found.\")"
      ],
      "metadata": {
        "colab": {
          "base_uri": "https://localhost:8080/"
        },
        "id": "u5l_CqTwEyVj",
        "outputId": "01a91481-466b-458c-c45c-a6d0af72ff32"
      },
      "execution_count": 22,
      "outputs": [
        {
          "output_type": "stream",
          "name": "stdout",
          "text": [
            "Index out of range.\n"
          ]
        }
      ]
    },
    {
      "cell_type": "code",
      "source": [
        "#20. How would you open a file and read its contents using a context manager in Python?\n",
        "\n",
        "with open(\"example.txt\", \"r\") as file:\n",
        "    content = file.read()\n",
        "    print(content)"
      ],
      "metadata": {
        "colab": {
          "base_uri": "https://localhost:8080/"
        },
        "id": "0ph8vzNVEzz9",
        "outputId": "c57a9664-f373-4a7b-c967-620ef07dc3d0"
      },
      "execution_count": 23,
      "outputs": [
        {
          "output_type": "stream",
          "name": "stdout",
          "text": [
            "Hello, this is a sample text.\n",
            "This is a new line.\n"
          ]
        }
      ]
    },
    {
      "cell_type": "code",
      "source": [
        "#21. Write a Python program that reads a file and prints the number of occurrences of a specific word.\n",
        "\n",
        "word_to_count = \"python\"\n",
        "\n",
        "with open(\"example.txt\", \"r\") as file:\n",
        "    content = file.read()\n",
        "\n",
        "count = content.lower().count(word_to_count.lower())\n",
        "print(f\"The word '{word_to_count}' appears {count} times.\")"
      ],
      "metadata": {
        "colab": {
          "base_uri": "https://localhost:8080/"
        },
        "id": "yK4eH26vE132",
        "outputId": "479611ad-0216-4047-8164-271af32c6243"
      },
      "execution_count": 24,
      "outputs": [
        {
          "output_type": "stream",
          "name": "stdout",
          "text": [
            "The word 'python' appears 0 times.\n"
          ]
        }
      ]
    },
    {
      "cell_type": "code",
      "source": [
        "#22. How can you check if a file is empty before attempting to read its contents?\n",
        "\n",
        "import os\n",
        "\n",
        "if os.path.getsize(\"example.txt\") == 0:\n",
        "    print(\"File is empty.\")\n",
        "else:\n",
        "    with open(\"example.txt\", \"r\") as file:\n",
        "        print(file.read())"
      ],
      "metadata": {
        "colab": {
          "base_uri": "https://localhost:8080/"
        },
        "id": "EkGAbXKEE2m0",
        "outputId": "8c2d6ca9-7119-42f1-eb1c-6d230c32f270"
      },
      "execution_count": 25,
      "outputs": [
        {
          "output_type": "stream",
          "name": "stdout",
          "text": [
            "Hello, this is a sample text.\n",
            "This is a new line.\n"
          ]
        }
      ]
    },
    {
      "cell_type": "code",
      "source": [
        "#23. Write a Python program that writes to a log file when an error occurs during file handling.\n",
        "\n",
        "import logging\n",
        "\n",
        "logging.basicConfig(filename=\"file_error.log\", level=logging.ERROR)\n",
        "\n",
        "try:\n",
        "    with open(\"not_found.txt\", \"r\") as file:\n",
        "        content = file.read()\n",
        "except FileNotFoundError as e:\n",
        "    logging.error(\"File error occurred: %s\", e)"
      ],
      "metadata": {
        "colab": {
          "base_uri": "https://localhost:8080/"
        },
        "id": "4mYp6TtrE4TY",
        "outputId": "61e282ea-e387-4329-cd7a-2191956a052f"
      },
      "execution_count": 26,
      "outputs": [
        {
          "output_type": "stream",
          "name": "stderr",
          "text": [
            "ERROR:root:File error occurred: [Errno 2] No such file or directory: 'not_found.txt'\n"
          ]
        }
      ]
    }
  ]
}